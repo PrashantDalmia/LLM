{
 "cells": [
  {
   "cell_type": "markdown",
   "id": "dc1fed9e",
   "metadata": {},
   "source": [
    "Assignment - 1 \n",
    "1.  you have to take one dataset from kaggle from any where(web)\n",
    "2.  train you custom word2vec model\n",
    "3.  then decrease the dimension of vectors into 2 dimesion using PCA(dimesion reduction)\n",
    "4.  then plot the data using graph(plot 2-d data)\n",
    "5.  check the similarity between the words\n",
    "6.  then send it to me inside th chat section keep your soltion over the github or drive and send the link in the community chat"
   ]
  },
  {
   "cell_type": "code",
   "execution_count": null,
   "id": "333f2f64",
   "metadata": {},
   "outputs": [],
   "source": [
    "import numpy as np # linear algebra\n",
    "import pandas as pd # data processing, CSV file I/O (e.g. pd.read_csv)\n",
    "import sqlite3\n",
    "from gensim.utils import simple_preprocess\n",
    "from gensim.models import Word2Vec\n",
    "from sklearn.decomposition import PCA\n",
    "import matplotlib.pyplot as plt\n",
    "import plotly.express as px"
   ]
  },
  {
   "cell_type": "code",
   "execution_count": 5,
   "id": "510d0527",
   "metadata": {},
   "outputs": [],
   "source": [
    "conn = sqlite3.connect('kaggle/wikibooks.sqlite')  # if it's in the same folder as your script\n",
    "## It is making the connection with the data base wikibooks.sqlite\n"
   ]
  },
  {
   "cell_type": "code",
   "execution_count": 6,
   "id": "e9b3293a",
   "metadata": {},
   "outputs": [],
   "source": [
    "cursor = conn.cursor()\n",
    "## A cursor is like a controller or a pointer that lets you interact with the database — it helps you execute SQL commands"
   ]
  },
  {
   "cell_type": "code",
   "execution_count": 7,
   "id": "e2bc460c",
   "metadata": {},
   "outputs": [
    {
     "data": {
      "text/plain": [
       "<sqlite3.Cursor at 0x19ac2df5e40>"
      ]
     },
     "execution_count": 7,
     "metadata": {},
     "output_type": "execute_result"
    }
   ],
   "source": [
    "cursor.execute(\"SELECT * from en\")\n",
    "##This command is used to run SQL statements (like CREATE, INSERT, SELECT, etc.) on the database using the cursor you created."
   ]
  },
  {
   "cell_type": "code",
   "execution_count": 8,
   "id": "b892ed44",
   "metadata": {},
   "outputs": [],
   "source": [
    "raw_eng_text = cursor.fetchall()\n",
    "## Assigning all the data fetched from the last SQL query to a variable named raw_eng_text."
   ]
  },
  {
   "cell_type": "code",
   "execution_count": 9,
   "id": "f9cd8c4c",
   "metadata": {},
   "outputs": [
    {
     "data": {
      "text/plain": [
       "<sqlite3.Cursor at 0x19ac2df5e40>"
      ]
     },
     "execution_count": 9,
     "metadata": {},
     "output_type": "execute_result"
    }
   ],
   "source": [
    "cursor.execute(f\"PRAGMA table_info(en);\")\n",
    "##This command is asking SQLite to tell you about the structure of the table named"
   ]
  },
  {
   "cell_type": "code",
   "execution_count": 10,
   "id": "38957c8b",
   "metadata": {},
   "outputs": [],
   "source": [
    "column_names = cursor.fetchall()\n"
   ]
  },
  {
   "cell_type": "code",
   "execution_count": 11,
   "id": "4baddf66",
   "metadata": {},
   "outputs": [
    {
     "data": {
      "text/plain": [
       "[(0, 'title', 'TEXT', 0, None, 0),\n",
       " (1, 'url', 'TEXT', 0, None, 0),\n",
       " (2, 'abstract', 'TEXT', 0, None, 0),\n",
       " (3, 'body_text', 'TEXT', 0, None, 0),\n",
       " (4, 'body_html', 'TEXT', 0, None, 0)]"
      ]
     },
     "execution_count": 11,
     "metadata": {},
     "output_type": "execute_result"
    }
   ],
   "source": [
    "column_names"
   ]
  },
  {
   "cell_type": "code",
   "execution_count": 12,
   "id": "30287369",
   "metadata": {},
   "outputs": [],
   "source": [
    "column_names = [column[1] for column in column_names]"
   ]
  },
  {
   "cell_type": "code",
   "execution_count": 13,
   "id": "cc2b6c1d",
   "metadata": {},
   "outputs": [
    {
     "data": {
      "text/plain": [
       "['title', 'url', 'abstract', 'body_text', 'body_html']"
      ]
     },
     "execution_count": 13,
     "metadata": {},
     "output_type": "execute_result"
    }
   ],
   "source": [
    "column_names"
   ]
  },
  {
   "cell_type": "code",
   "execution_count": 14,
   "id": "d3c6afc0",
   "metadata": {},
   "outputs": [],
   "source": [
    "# Create a pandas DataFrame from the fetched data\n",
    "df_eng_text = pd.DataFrame(raw_eng_text, columns=column_names)"
   ]
  },
  {
   "cell_type": "code",
   "execution_count": 15,
   "id": "09d0d193",
   "metadata": {},
   "outputs": [
    {
     "data": {
      "text/plain": [
       "3517631"
      ]
     },
     "execution_count": 15,
     "metadata": {},
     "output_type": "execute_result"
    }
   ],
   "source": [
    "df_eng_text.body_text.str.len().max()"
   ]
  },
  {
   "cell_type": "code",
   "execution_count": 16,
   "id": "a1732acb",
   "metadata": {},
   "outputs": [
    {
     "data": {
      "text/plain": [
       "86736"
      ]
     },
     "execution_count": 16,
     "metadata": {},
     "output_type": "execute_result"
    }
   ],
   "source": [
    "len(df_eng_text)"
   ]
  },
  {
   "cell_type": "code",
   "execution_count": 17,
   "id": "ae5cbed1",
   "metadata": {},
   "outputs": [
    {
     "data": {
      "text/html": [
       "<div>\n",
       "<style scoped>\n",
       "    .dataframe tbody tr th:only-of-type {\n",
       "        vertical-align: middle;\n",
       "    }\n",
       "\n",
       "    .dataframe tbody tr th {\n",
       "        vertical-align: top;\n",
       "    }\n",
       "\n",
       "    .dataframe thead th {\n",
       "        text-align: right;\n",
       "    }\n",
       "</style>\n",
       "<table border=\"1\" class=\"dataframe\">\n",
       "  <thead>\n",
       "    <tr style=\"text-align: right;\">\n",
       "      <th></th>\n",
       "      <th>title</th>\n",
       "      <th>url</th>\n",
       "      <th>abstract</th>\n",
       "      <th>body_text</th>\n",
       "      <th>body_html</th>\n",
       "    </tr>\n",
       "  </thead>\n",
       "  <tbody>\n",
       "    <tr>\n",
       "      <th>0</th>\n",
       "      <td>Wikibooks: Radiation Oncology/NHL/CLL-SLL</td>\n",
       "      <td>https://en.wikibooks.org/wiki/Radiation_Oncolo...</td>\n",
       "      <td>Chronic Lymphocytic Leukemia and Small Lymphoc...</td>\n",
       "      <td>Front Page: Radiation Oncology | RTOG Trials |...</td>\n",
       "      <td>&lt;div class=\"mw-parser-output\"&gt;&lt;table width=\"10...</td>\n",
       "    </tr>\n",
       "    <tr>\n",
       "      <th>1</th>\n",
       "      <td>Wikibooks: Romanian/Lesson 9</td>\n",
       "      <td>https://en.wikibooks.org/wiki/Romanian/Lesson_9</td>\n",
       "      <td>==Băuturi/Beverages==</td>\n",
       "      <td>Băuturi/Beverages[edit | edit source]\\nTea : C...</td>\n",
       "      <td>&lt;div class=\"mw-parser-output\"&gt;&lt;h2&gt;&lt;span id=\"B....</td>\n",
       "    </tr>\n",
       "    <tr>\n",
       "      <th>2</th>\n",
       "      <td>Wikibooks: Karrigell</td>\n",
       "      <td>https://en.wikibooks.org/wiki/Karrigell</td>\n",
       "      <td>Karrigell is an open Source Python web framewo...</td>\n",
       "      <td>Karrigell is an open Source Python web framewo...</td>\n",
       "      <td>&lt;div class=\"mw-parser-output\"&gt;&lt;p&gt;Karrigell is ...</td>\n",
       "    </tr>\n",
       "    <tr>\n",
       "      <th>3</th>\n",
       "      <td>Wikibooks: The Pyrogenesis Engine/0 A.D./GuiSe...</td>\n",
       "      <td>https://en.wikibooks.org/wiki/The_Pyrogenesis_...</td>\n",
       "      <td>====setupUnitPanel====</td>\n",
       "      <td>setupUnitPanel[edit | edit source]\\nHelper fun...</td>\n",
       "      <td>&lt;div class=\"mw-parser-output\"&gt;&lt;h4&gt;&lt;span class=...</td>\n",
       "    </tr>\n",
       "    <tr>\n",
       "      <th>4</th>\n",
       "      <td>Wikibooks: LMIs in Control/pages/Exterior Coni...</td>\n",
       "      <td>https://en.wikibooks.org/wiki/LMIs_in_Control/...</td>\n",
       "      <td>== The Concept ==</td>\n",
       "      <td>Contents\\n\\n1 The Concept\\n2 The System\\n3 The...</td>\n",
       "      <td>&lt;div class=\"mw-parser-output\"&gt;&lt;div id=\"toc\" cl...</td>\n",
       "    </tr>\n",
       "  </tbody>\n",
       "</table>\n",
       "</div>"
      ],
      "text/plain": [
       "                                               title  \\\n",
       "0          Wikibooks: Radiation Oncology/NHL/CLL-SLL   \n",
       "1                       Wikibooks: Romanian/Lesson 9   \n",
       "2                               Wikibooks: Karrigell   \n",
       "3  Wikibooks: The Pyrogenesis Engine/0 A.D./GuiSe...   \n",
       "4  Wikibooks: LMIs in Control/pages/Exterior Coni...   \n",
       "\n",
       "                                                 url  \\\n",
       "0  https://en.wikibooks.org/wiki/Radiation_Oncolo...   \n",
       "1    https://en.wikibooks.org/wiki/Romanian/Lesson_9   \n",
       "2            https://en.wikibooks.org/wiki/Karrigell   \n",
       "3  https://en.wikibooks.org/wiki/The_Pyrogenesis_...   \n",
       "4  https://en.wikibooks.org/wiki/LMIs_in_Control/...   \n",
       "\n",
       "                                            abstract  \\\n",
       "0  Chronic Lymphocytic Leukemia and Small Lymphoc...   \n",
       "1                              ==Băuturi/Beverages==   \n",
       "2  Karrigell is an open Source Python web framewo...   \n",
       "3                             ====setupUnitPanel====   \n",
       "4                                  == The Concept ==   \n",
       "\n",
       "                                           body_text  \\\n",
       "0  Front Page: Radiation Oncology | RTOG Trials |...   \n",
       "1  Băuturi/Beverages[edit | edit source]\\nTea : C...   \n",
       "2  Karrigell is an open Source Python web framewo...   \n",
       "3  setupUnitPanel[edit | edit source]\\nHelper fun...   \n",
       "4  Contents\\n\\n1 The Concept\\n2 The System\\n3 The...   \n",
       "\n",
       "                                           body_html  \n",
       "0  <div class=\"mw-parser-output\"><table width=\"10...  \n",
       "1  <div class=\"mw-parser-output\"><h2><span id=\"B....  \n",
       "2  <div class=\"mw-parser-output\"><p>Karrigell is ...  \n",
       "3  <div class=\"mw-parser-output\"><h4><span class=...  \n",
       "4  <div class=\"mw-parser-output\"><div id=\"toc\" cl...  "
      ]
     },
     "execution_count": 17,
     "metadata": {},
     "output_type": "execute_result"
    }
   ],
   "source": [
    "df_eng_text.head()"
   ]
  },
  {
   "cell_type": "code",
   "execution_count": 18,
   "id": "1d6dcf50",
   "metadata": {},
   "outputs": [],
   "source": [
    "sub_df = df_eng_text"
   ]
  },
  {
   "cell_type": "code",
   "execution_count": 19,
   "id": "280053ae",
   "metadata": {},
   "outputs": [],
   "source": [
    "## apply preprocessing function from gensim.utils\n",
    "## The Basic job of simple preprocessing is to chnage the words to lower case, tokeniz the sentence, remove punchuation, Filter out words with less than 2 chra and more than 15 char\n",
    "sub_df[\"body_text\"]=sub_df[\"body_text\"].apply(lambda x: simple_preprocess(x))"
   ]
  },
  {
   "cell_type": "code",
   "execution_count": 20,
   "id": "30625db4",
   "metadata": {},
   "outputs": [
    {
     "data": {
      "text/html": [
       "<div>\n",
       "<style scoped>\n",
       "    .dataframe tbody tr th:only-of-type {\n",
       "        vertical-align: middle;\n",
       "    }\n",
       "\n",
       "    .dataframe tbody tr th {\n",
       "        vertical-align: top;\n",
       "    }\n",
       "\n",
       "    .dataframe thead th {\n",
       "        text-align: right;\n",
       "    }\n",
       "</style>\n",
       "<table border=\"1\" class=\"dataframe\">\n",
       "  <thead>\n",
       "    <tr style=\"text-align: right;\">\n",
       "      <th></th>\n",
       "      <th>title</th>\n",
       "      <th>url</th>\n",
       "      <th>abstract</th>\n",
       "      <th>body_text</th>\n",
       "      <th>body_html</th>\n",
       "    </tr>\n",
       "  </thead>\n",
       "  <tbody>\n",
       "    <tr>\n",
       "      <th>0</th>\n",
       "      <td>Wikibooks: Radiation Oncology/NHL/CLL-SLL</td>\n",
       "      <td>https://en.wikibooks.org/wiki/Radiation_Oncolo...</td>\n",
       "      <td>Chronic Lymphocytic Leukemia and Small Lymphoc...</td>\n",
       "      <td>[front, page, radiation, oncology, rtog, trial...</td>\n",
       "      <td>&lt;div class=\"mw-parser-output\"&gt;&lt;table width=\"10...</td>\n",
       "    </tr>\n",
       "    <tr>\n",
       "      <th>1</th>\n",
       "      <td>Wikibooks: Romanian/Lesson 9</td>\n",
       "      <td>https://en.wikibooks.org/wiki/Romanian/Lesson_9</td>\n",
       "      <td>==Băuturi/Beverages==</td>\n",
       "      <td>[băuturi, beverages, edit, edit, source, tea, ...</td>\n",
       "      <td>&lt;div class=\"mw-parser-output\"&gt;&lt;h2&gt;&lt;span id=\"B....</td>\n",
       "    </tr>\n",
       "    <tr>\n",
       "      <th>2</th>\n",
       "      <td>Wikibooks: Karrigell</td>\n",
       "      <td>https://en.wikibooks.org/wiki/Karrigell</td>\n",
       "      <td>Karrigell is an open Source Python web framewo...</td>\n",
       "      <td>[karrigell, is, an, open, source, python, web,...</td>\n",
       "      <td>&lt;div class=\"mw-parser-output\"&gt;&lt;p&gt;Karrigell is ...</td>\n",
       "    </tr>\n",
       "    <tr>\n",
       "      <th>3</th>\n",
       "      <td>Wikibooks: The Pyrogenesis Engine/0 A.D./GuiSe...</td>\n",
       "      <td>https://en.wikibooks.org/wiki/The_Pyrogenesis_...</td>\n",
       "      <td>====setupUnitPanel====</td>\n",
       "      <td>[setupunitpanel, edit, edit, source, helper, f...</td>\n",
       "      <td>&lt;div class=\"mw-parser-output\"&gt;&lt;h4&gt;&lt;span class=...</td>\n",
       "    </tr>\n",
       "    <tr>\n",
       "      <th>4</th>\n",
       "      <td>Wikibooks: LMIs in Control/pages/Exterior Coni...</td>\n",
       "      <td>https://en.wikibooks.org/wiki/LMIs_in_Control/...</td>\n",
       "      <td>== The Concept ==</td>\n",
       "      <td>[contents, the, concept, the, system, the, dat...</td>\n",
       "      <td>&lt;div class=\"mw-parser-output\"&gt;&lt;div id=\"toc\" cl...</td>\n",
       "    </tr>\n",
       "  </tbody>\n",
       "</table>\n",
       "</div>"
      ],
      "text/plain": [
       "                                               title  \\\n",
       "0          Wikibooks: Radiation Oncology/NHL/CLL-SLL   \n",
       "1                       Wikibooks: Romanian/Lesson 9   \n",
       "2                               Wikibooks: Karrigell   \n",
       "3  Wikibooks: The Pyrogenesis Engine/0 A.D./GuiSe...   \n",
       "4  Wikibooks: LMIs in Control/pages/Exterior Coni...   \n",
       "\n",
       "                                                 url  \\\n",
       "0  https://en.wikibooks.org/wiki/Radiation_Oncolo...   \n",
       "1    https://en.wikibooks.org/wiki/Romanian/Lesson_9   \n",
       "2            https://en.wikibooks.org/wiki/Karrigell   \n",
       "3  https://en.wikibooks.org/wiki/The_Pyrogenesis_...   \n",
       "4  https://en.wikibooks.org/wiki/LMIs_in_Control/...   \n",
       "\n",
       "                                            abstract  \\\n",
       "0  Chronic Lymphocytic Leukemia and Small Lymphoc...   \n",
       "1                              ==Băuturi/Beverages==   \n",
       "2  Karrigell is an open Source Python web framewo...   \n",
       "3                             ====setupUnitPanel====   \n",
       "4                                  == The Concept ==   \n",
       "\n",
       "                                           body_text  \\\n",
       "0  [front, page, radiation, oncology, rtog, trial...   \n",
       "1  [băuturi, beverages, edit, edit, source, tea, ...   \n",
       "2  [karrigell, is, an, open, source, python, web,...   \n",
       "3  [setupunitpanel, edit, edit, source, helper, f...   \n",
       "4  [contents, the, concept, the, system, the, dat...   \n",
       "\n",
       "                                           body_html  \n",
       "0  <div class=\"mw-parser-output\"><table width=\"10...  \n",
       "1  <div class=\"mw-parser-output\"><h2><span id=\"B....  \n",
       "2  <div class=\"mw-parser-output\"><p>Karrigell is ...  \n",
       "3  <div class=\"mw-parser-output\"><h4><span class=...  \n",
       "4  <div class=\"mw-parser-output\"><div id=\"toc\" cl...  "
      ]
     },
     "execution_count": 20,
     "metadata": {},
     "output_type": "execute_result"
    }
   ],
   "source": [
    "sub_df.head()"
   ]
  },
  {
   "cell_type": "code",
   "execution_count": 21,
   "id": "0f6bc87e",
   "metadata": {},
   "outputs": [
    {
     "data": {
      "text/plain": [
       "'\\nBefore\\n[\\n  [\"hello\", \"how\", \"are\", \"you\"],\\n  [\"this\", \"is\", \"a\", \"test\"]\\n]\\nAfter\\n[\\n  [vec(\"hello\"), vec(\"how\"), vec(\"are\"), vec(\"you\")],\\n  [vec(\"this\"), vec(\"is\"), vec(\"a\"), vec(\"test\")]\\n]\\n'"
      ]
     },
     "execution_count": 21,
     "metadata": {},
     "output_type": "execute_result"
    }
   ],
   "source": [
    "## train Word2Vec model using preprocessed data\n",
    "model = Word2Vec(sub_df[\"body_text\"])\n",
    "\"\"\"\n",
    "Before\n",
    "[\n",
    "  [\"hello\", \"how\", \"are\", \"you\"],\n",
    "  [\"this\", \"is\", \"a\", \"test\"]\n",
    "]\n",
    "After\n",
    "[\n",
    "  [vec(\"hello\"), vec(\"how\"), vec(\"are\"), vec(\"you\")],\n",
    "  [vec(\"this\"), vec(\"is\"), vec(\"a\"), vec(\"test\")]\n",
    "]\n",
    "\"\"\""
   ]
  },
  {
   "cell_type": "code",
   "execution_count": 22,
   "id": "ce1e83ad",
   "metadata": {},
   "outputs": [
    {
     "data": {
      "text/plain": [
       "(100,)"
      ]
     },
     "execution_count": 22,
     "metadata": {},
     "output_type": "execute_result"
    }
   ],
   "source": [
    "model.wv[\"front\"].shape"
   ]
  },
  {
   "cell_type": "markdown",
   "id": "fdc53689",
   "metadata": {},
   "source": [
    "## Get  the word from vector from model"
   ]
  },
  {
   "cell_type": "code",
   "execution_count": 23,
   "id": "407aaa1b",
   "metadata": {},
   "outputs": [],
   "source": [
    "words = list(model.wv.index_to_key) \n",
    "## It will create a single list for the whole word present in different rows"
   ]
  },
  {
   "cell_type": "code",
   "execution_count": 24,
   "id": "9da9d867",
   "metadata": {},
   "outputs": [],
   "source": [
    "word_vectors = model.wv[words]\n",
    "## It willl contain the vector with 100 D for each word in the similar way"
   ]
  },
  {
   "cell_type": "markdown",
   "id": "dcc9e3f2",
   "metadata": {},
   "source": [
    "## Apply PCA to reduce to 2D"
   ]
  },
  {
   "cell_type": "code",
   "execution_count": 25,
   "id": "dfba3d41",
   "metadata": {},
   "outputs": [],
   "source": [
    "pca = PCA(n_components=2)\n",
    "word_vecs_2d = pca.fit_transform(word_vectors)\n",
    "##Here We are creating the object for PCA and finally converting the 100 D to 2 D"
   ]
  },
  {
   "cell_type": "markdown",
   "id": "c69c7aba",
   "metadata": {},
   "source": [
    "## Plot the vectors\n",
    "\n"
   ]
  },
  {
   "cell_type": "code",
   "execution_count": 30,
   "id": "8c665272",
   "metadata": {},
   "outputs": [
    {
     "data": {
      "image/png": "[encoded data removed]",
      "text/plain": [
       "<Figure size 1000x800 with 1 Axes>"
      ]
     },
     "metadata": {},
     "output_type": "display_data"
    }
   ],
   "source": [
    "## So all the plotting commands after this will use this figure size 10 X 8\n",
    "plt.figure(figsize=(10, 8))\n",
    "\n",
    "'''\n",
    "For each word present in the list , \n",
    "1st line, this for loop will go word by word\n",
    "2nd line, for the word present at index 0 and so, it will first create a x and y for that index which is coming from word_vecs_2\n",
    "3rd line , it will plot the word in 2d graph\n",
    "4th line , it will give the exact word for that point\n",
    "'''\n",
    "for i, word in enumerate(words[:15]):\n",
    "    x, y = word_vecs_2d[i]\n",
    "    plt.scatter(x, y)\n",
    "    plt.annotate(word, (x, y), fontsize=9)\n",
    "\n",
    "plt.title(\"Word2Vec 2D Visualization using PCA\")\n",
    "plt.grid(True)\n",
    "plt.show()\n"
   ]
  },
  {
   "cell_type": "code",
   "execution_count": 31,
   "id": "b9cc3d7f",
   "metadata": {},
   "outputs": [
    {
     "data": {
      "text/plain": [
       "[('edit', 0.6817672252655029),\n",
       " ('references', 0.6199760437011719),\n",
       " ('summary', 0.5192493796348572),\n",
       " ('footnotes', 0.5040265917778015),\n",
       " ('description', 0.4777454733848572),\n",
       " ('notes', 0.45444348454475403),\n",
       " ('overview', 0.4366229474544525),\n",
       " ('acknowledgments', 0.43008705973625183),\n",
       " ('barendregt', 0.42464885115623474),\n",
       " ('basic', 0.41885608434677124)]"
      ]
     },
     "execution_count": 31,
     "metadata": {},
     "output_type": "execute_result"
    }
   ],
   "source": [
    "model.wv.most_similar(\"source\")"
   ]
  },
  {
   "cell_type": "code",
   "execution_count": 29,
   "id": "55c9cbcd",
   "metadata": {},
   "outputs": [
    {
     "data": {
      "text/plain": [
       "[('second', 0.8642998337745667),\n",
       " ('last', 0.8285740613937378),\n",
       " ('third', 0.7509198188781738),\n",
       " ('fourth', 0.7360485792160034),\n",
       " ('next', 0.7030492424964905),\n",
       " ('final', 0.6641017198562622),\n",
       " ('fifth', 0.6561377048492432),\n",
       " ('finally', 0.6353775858879089),\n",
       " ('the', 0.6264860033988953),\n",
       " ('this', 0.6206513047218323)]"
      ]
     },
     "execution_count": 29,
     "metadata": {},
     "output_type": "execute_result"
    }
   ],
   "source": [
    "model.wv.most_similar(\"first\")"
   ]
  },
  {
   "cell_type": "code",
   "execution_count": null,
   "id": "e2caac1d",
   "metadata": {},
   "outputs": [],
   "source": []
  }
 ],
 "metadata": {
  "kernelspec": {
   "display_name": "base",
   "language": "python",
   "name": "python3"
  },
  "language_info": {
   "codemirror_mode": {
    "name": "ipython",
    "version": 3
   },
   "file_extension": ".py",
   "mimetype": "text/x-python",
   "name": "python",
   "nbconvert_exporter": "python",
   "pygments_lexer": "ipython3",
   "version": "3.12.7"
  }
 },
 "nbformat": 4,
 "nbformat_minor": 5
}
